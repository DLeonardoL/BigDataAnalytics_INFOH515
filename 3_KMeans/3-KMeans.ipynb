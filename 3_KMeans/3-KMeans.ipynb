{
 "cells": [
  {
   "cell_type": "markdown",
   "metadata": {},
   "source": [
    "# [INFO-H515 - Big Data Scalable Analytics](http://uv.ulb.ac.be/course/view.php?id=74317?username=guest)\n",
    "\n",
    "\n",
    "## TP 3 - K-means\n",
    "\n",
    "#### *Yann-Aël Le Borgne, Jacopo De Stefani and Gianluca Bontempi*\n",
    "\n",
    "####  02/05/2018\n"
   ]
  },
  {
   "cell_type": "markdown",
   "metadata": {},
   "source": [
    "This class aims at implementing a widely used clustering algorithm - K-means - in Map/Reduce. We will first review the centralised approach, and then explore two approaches: one based on a Map/Reduce of rows (as was done in TP2), and an optimised version based on a Map/Reduce of partitions. We finally cover the implementation using the Spark MLlib library. \n",
    "\n",
    "The techniques will first be aplied to an artificial dataset (a mixture of gaussian, for which the number of clusters (gaussians) is known), and then on an image compression task.\n",
    "\n",
    "\n",
    "### Class objectives:\n",
    "\n",
    "* Implementation of centralised K-means from scratch using numpy\n",
    "* Implementation of K-means in Map/Reduce, on rows\n",
    "* Implementation of K-means in Map/Reduce, on RDD partitions \n",
    "* Application for image compression\n",
    "* Implementation with Spark MLlib\n"
   ]
  },
  {
   "cell_type": "markdown",
   "metadata": {},
   "source": [
    "# K-means\n",
    "\n",
    "K-means is a classic clustering algorithm which aims to partition $N$ observations into $k$ clusters in which each observation belongs to the cluster with the nearest mean, serving as a prototype of the cluster. This results in a partitioning of the data space into Voronoi cells. https://en.wikipedia.org/wiki/K-means_clustering.\n",
    "\n",
    "![](./img/ExampleCluster.png)"
   ]
  },
  {
   "cell_type": "markdown",
   "metadata": {},
   "source": [
    "### Notations\n",
    "\n",
    "* Let $x_i$, $1 \\le i \\le N$, be a set of $N$ observations, with $x_i \\in \\mathbb{R}^n$. \n",
    "* Let $X$ be the matrix of observations with rows $x_i$, of size $N \\times n$ ($N$ observations, (rows) and $n$ features (columns)). \n",
    "* Let $k$ be the number of clusters, and $\\mu_j \\in \\mathbb{R}^n$, $1 \\le j \\le k$ be the cluster means (also called cluster centroids).\n",
    "\n",
    "The k-means problem seeks to find a set of $k$ means $M = \\{\\mu_1, . . . , \\mu_k\\}$ which minimize the function\n",
    "\n",
    "$$\n",
    "L(X, M)=\\sum_{i,j} (x_i-\\mu_j)^2\n",
    "$$\n",
    "\n",
    "The standard algorithm for solving k-means uses an iterative process which guarantees a decrease in total error (value of the objective function L(M)) on each step. The algorithm is as follows:\n",
    "\n",
    "1. Choose $k$ initial means $\\{\\mu_1,..., \\mu_k\\}$ uniformly at random from the set $X$. Initialise $k$ sets $S_j=\\{\\}$.\n",
    "2. For each point $x \\in X$, find the closest mean $\\mu_j$ and add $x$ to the set $S_j$.\n",
    "3. For $j \\in \\{1,...k\\}$, set $\\mu_j$ to be the centroid of the points in $S_j$.\n",
    "4. Repeat steps 2 and 3 until the means have converged.\n",
    "\n"
   ]
  },
  {
   "cell_type": "markdown",
   "metadata": {},
   "source": [
    "# General imports"
   ]
  },
  {
   "cell_type": "code",
   "execution_count": 1,
   "metadata": {
    "collapsed": true
   },
   "outputs": [],
   "source": [
    "import time\n",
    "import os \n",
    "import numpy as np\n",
    "\n",
    "%matplotlib inline\n",
    "import matplotlib.pyplot as plt\n"
   ]
  },
  {
   "cell_type": "markdown",
   "metadata": {},
   "source": [
    "# 1) Dataset generation\n",
    "\n",
    "Let us first generate an artificial dataset of $N$ observations with $n$ variables drawn from a mixture of k gaussians."
   ]
  },
  {
   "cell_type": "code",
   "execution_count": 2,
   "metadata": {
    "collapsed": true
   },
   "outputs": [],
   "source": [
    "def genData(N,n,k,random_seed):\n",
    "    \n",
    "    start = time.time()\n",
    "\n",
    "    np.random.seed(random_seed)   \n",
    "\n",
    "    #Set centroid centers along a diagonal, and fix cov matrix to identity\n",
    "    M=np.array([range(k),]*n).transpose()*5\n",
    "    cov=np.identity(n)\n",
    "\n",
    "    X=np.empty((N,n))\n",
    "\n",
    "    for i in range(N):\n",
    "        j=np.random.randint(0,k)\n",
    "        X[i,:]=np.random.multivariate_normal(M[j,:],cov)\n",
    "    \n",
    "        \n",
    "    print(\"Number of observations :\",N)\n",
    "    print(\"Number of features :\",n)\n",
    "\n",
    "    print(\"Dimension of X :\",X.shape)\n",
    "    print(\"Number of clusters :\",k)\n",
    "    \n",
    "    end = time.time()\n",
    "    print(\"Time to create artificial data: \",round(end - start,2),\"seconds\")\n",
    "    \n",
    "    return (X,M)"
   ]
  },
  {
   "cell_type": "code",
   "execution_count": 3,
   "metadata": {},
   "outputs": [
    {
     "name": "stdout",
     "output_type": "stream",
     "text": [
      "Number of observations : 100\n",
      "Number of features : 2\n",
      "Dimension of X : (100, 2)\n",
      "Number of clusters : 3\n",
      "Time to create artificial data:  0.29 seconds\n"
     ]
    }
   ],
   "source": [
    "#Let us generate the dataset\n",
    "N=100\n",
    "n=2\n",
    "k=3\n",
    "(X,M)=genData(N,n,k,1)"
   ]
  },
  {
   "cell_type": "code",
   "execution_count": 4,
   "metadata": {},
   "outputs": [
    {
     "data": {
      "text/plain": [
       "<matplotlib.collections.PathCollection at 0x1064fd6d8>"
      ]
     },
     "execution_count": 4,
     "metadata": {},
     "output_type": "execute_result"
    },
    {
     "data": {
      "image/png": "[encoded data removed]",
      "text/plain": [
       "<matplotlib.figure.Figure at 0x1064fd5f8>"
      ]
     },
     "metadata": {},
     "output_type": "display_data"
    }
   ],
   "source": [
    "fig, ax = plt.subplots(figsize=(6,4))\n",
    "ax.scatter(X[:,0], X[:,1])\n"
   ]
  },
  {
   "cell_type": "markdown",
   "metadata": {},
   "source": [
    "# 2) K-means - centralised approach\n",
    "\n",
    "\n",
    "Let us recall the algorithm:\n",
    "\n",
    "1. Choose $k$ initial means $\\{\\mu_1,..., \\mu_k\\}$ uniformly at random from the set $X$. Initialise $k$ sets $S_j=\\{\\}$.\n",
    "2. For each point $x \\in X$, find the closest mean $\\mu_j$ and add $x$ to the set $S_j$.\n",
    "3. For $j \\in \\{1,...k\\}$, set $\\mu_j$ to be the centroid of the points in $S_j$.\n",
    "4. Repeat steps 2 and 3 until the means have converged.\n",
    "\n",
    "Below is an implementation of this algorithm"
   ]
  },
  {
   "cell_type": "code",
   "execution_count": 5,
   "metadata": {
    "collapsed": true
   },
   "outputs": [],
   "source": [
    "#Input\n",
    "#X: Matrix of observations\n",
    "#k: Number of clusters\n",
    "#T: Number of iterations\n",
    "#Output:\n",
    "#M_sequence: List of cluster centroids at each iteration\n",
    "#S: List of $S_j$ at the last iteration\n",
    "def centralizedKmeans(X,k=3,T=10):\n",
    "\n",
    "    #Initialise centroids with the k first observations from X\n",
    "    M=X[0:k,:].tolist()\n",
    "    #Keep track of all cluster centroids updates for plotting later the sequence of updates\n",
    "    M_sequence=[M]\n",
    "\n",
    "    #Initial loss\n",
    "    L_sequence=[]\n",
    "\n",
    "    for t in range(T):\n",
    "        #Associate each to its closest centroid\n",
    "        S=assignXToCluster(X,M)\n",
    "        #Update centroid means\n",
    "        M=np.array([np.mean(s,axis=0) for s in S])\n",
    "    \n",
    "        #Add update to M sequence for plotting\n",
    "        M_sequence.append(M)\n",
    "        #Add loss to L sequence for plotting\n",
    "        #L_sequence.append(computeLoss(S,M))\n",
    "        \n",
    "    return (M_sequence, S, L_sequence)"
   ]
  },
  {
   "cell_type": "markdown",
   "metadata": {},
   "source": [
    "The function S=assignXToCluster(X,M) takes the matrix of observations X and the set of centroids M, and returns a list of list where element j is the set of observations $S_j$ falling into cluster j. This is for the second step of the algorithm."
   ]
  },
  {
   "cell_type": "code",
   "execution_count": 6,
   "metadata": {
    "collapsed": true
   },
   "outputs": [],
   "source": [
    "#Function that assigns all observations in X to their closest cluster centroids\n",
    "#Input:\n",
    "#* X: Array of observations\n",
    "#* M: List of cluster centroids\n",
    "#Output: \n",
    "#* S: List of observations falling in each cluster (list of list)\n",
    "def assignXToCluster(X,M):\n",
    "    #Number of observations\n",
    "    N=X.shape[0]\n",
    "    #Number of clusters is length of M\n",
    "    k=len(M)\n",
    "    #Initialise sets of observations belonging to each cluster\n",
    "    S = [[] for i in range(k)]\n",
    "    \n",
    "    #For each observation\n",
    "    for i in range(N):\n",
    "        #Get closest centroid\n",
    "        c_i=closestCentroid(X[i,:],M)\n",
    "        #Add observation to corresponding cluster\n",
    "        S[c_i].append(X[i,:])\n",
    "    \n",
    "    return S\n",
    "  "
   ]
  },
  {
   "cell_type": "markdown",
   "metadata": {},
   "source": [
    "**Exercise:**\n",
    "\n",
    "Write the function closestCentroid(x,M), that takes as input an observation x and the set of centroids M, and returns the index of the closest centroid to x in M."
   ]
  },
  {
   "cell_type": "code",
   "execution_count": 7,
   "metadata": {
    "collapsed": true
   },
   "outputs": [],
   "source": [
    "#Function that finds the closest cluster centroid for x\n",
    "#M is the list of cluster centroids\n",
    "def closestCentroid(x,M):\n",
    "    dist=[]\n",
    "    #Number of clusters is length of M\n",
    "    k=len(M)\n",
    "    for i in range(k):\n",
    "        dist.append(np.linalg.norm(x-M[i]))\n",
    "        \n",
    "    #Get closest entroid\n",
    "    c=dist.index(min(dist))\n",
    "    \n",
    "    return c"
   ]
  },
  {
   "cell_type": "markdown",
   "metadata": {},
   "source": [
    "**Exercise:**\n",
    "\n",
    "Run the algorithm with k=3 clusters, and T=10 iterations "
   ]
  },
  {
   "cell_type": "code",
   "execution_count": 10,
   "metadata": {},
   "outputs": [],
   "source": [
    "(M_sequence, S, L_sequence)=centralizedKmeans(X,k=3,T=10)"
   ]
  },
  {
   "cell_type": "markdown",
   "metadata": {},
   "source": [
    "#### Print and plot the results"
   ]
  },
  {
   "cell_type": "code",
   "execution_count": 11,
   "metadata": {},
   "outputs": [
    {
     "name": "stdout",
     "output_type": "stream",
     "text": [
      "Centroids found: [[ 4.98401302  5.1847767 ]\n",
      " [ 9.83695066  9.9504322 ]\n",
      " [-0.08083014  0.09678886]]\n"
     ]
    }
   ],
   "source": [
    "#Let M be the centroids found in the last iteration\n",
    "M=M_sequence[-1]\n",
    "print(\"Centroids found:\", M)"
   ]
  },
  {
   "cell_type": "code",
   "execution_count": 12,
   "metadata": {},
   "outputs": [
    {
     "data": {
      "text/plain": [
       "<matplotlib.legend.Legend at 0x10c37ceb8>"
      ]
     },
     "execution_count": 12,
     "metadata": {},
     "output_type": "execute_result"
    },
    {
     "data": {
      "image/png": "[encoded data removed]",
      "text/plain": [
       "<matplotlib.figure.Figure at 0x1064fd940>"
      ]
     },
     "metadata": {},
     "output_type": "display_data"
    }
   ],
   "source": [
    "fig, ax = plt.subplots(figsize=(6,4))\n",
    "\n",
    "#Plot clusters and sequences of updates for centroids\n",
    "for j in range(k):\n",
    "    Xc=np.array(S[j])\n",
    "    ax.scatter(Xc[:,0], Xc[:,1], label='Cluster '+str(j))\n",
    "\n",
    "    #Add sequence of updates for centroids\n",
    "    sequence_centroid=np.array(M_sequence)[:,j,:]\n",
    "    ax.plot(sequence_centroid[:,0],sequence_centroid[:,1])\n",
    "ax.legend()"
   ]
  },
  {
   "cell_type": "markdown",
   "metadata": {
    "collapsed": true
   },
   "source": [
    "#### Compute the loss at each iteration\n",
    "\n",
    "For a given set of cluster centroids M, the loss is the mean squared error between observations in each cluster, and its cluster centroid"
   ]
  },
  {
   "cell_type": "markdown",
   "metadata": {},
   "source": [
    "**Exercise:**\n",
    "    \n",
    "Write a function L=computeLoss(S,M), that takes as input the set of observations falling in each cluster, and the set of centroids, and returns the loss L"
   ]
  },
  {
   "cell_type": "code",
   "execution_count": 13,
   "metadata": {
    "collapsed": true
   },
   "outputs": [],
   "source": [
    "def computeLoss(S,M):\n",
    "    k=len(M)\n",
    "    L=0\n",
    "    for j in range(k):\n",
    "        #Loss for cluster j\n",
    "        Lj=0\n",
    "        for i in range(len(S[j])):\n",
    "            Lj=Lj+np.linalg.norm(S[j][i]-M[j])**2\n",
    "        Lj=Lj/len(S[j])\n",
    "        L=L+Lj\n",
    "    return L\n",
    "    "
   ]
  },
  {
   "cell_type": "code",
   "execution_count": 14,
   "metadata": {
    "collapsed": true
   },
   "outputs": [],
   "source": [
    "# Uncomment L_sequence computation in centralizedKmeans\n",
    "(M_sequence, S, L_sequence)=centralizedKmeans(X,k=3,T=10)"
   ]
  },
  {
   "cell_type": "code",
   "execution_count": 15,
   "metadata": {},
   "outputs": [
    {
     "data": {
      "text/plain": [
       "[14.645020074514761,\n",
       " 6.1680431445142387,\n",
       " 5.0680992964514235,\n",
       " 5.0680992964514235,\n",
       " 5.0680992964514235,\n",
       " 5.0680992964514235,\n",
       " 5.0680992964514235,\n",
       " 5.0680992964514235,\n",
       " 5.0680992964514235,\n",
       " 5.0680992964514235]"
      ]
     },
     "execution_count": 15,
     "metadata": {},
     "output_type": "execute_result"
    }
   ],
   "source": [
    "L_sequence"
   ]
  },
  {
   "cell_type": "markdown",
   "metadata": {},
   "source": [
    "# 3) K-means - Map/Reduce approach\n",
    "\n",
    "\n",
    "If $X$ does not fit in memory, a Map/Reduce approach can be designed to distribute the computation of updates for the centroids. K-means has two main steps:\n",
    "\n",
    "1. Associate each observation to its closest cluster, and \n",
    "2. Update cluster centroids\n",
    "\n",
    "The first step requires to compute the distance between each observation, and all cluster centroids. This can be done using the `map` operator, by applying the `closestCentroid` function to each observation. The function will be slightly modified to return a (key,value) pair where the key will be the index of the closest centroid, and the value a pair (observation,1) which will allow the computation of the mean. \n",
    "\n",
    "The second step consists in taking the mean of the observations falling in each cluster, which can be done using the `reduceByKey` followed by the `mapValues` operators. \n",
    "\n",
    "**Summary of the sequence of operations with the Map/Reduce model**:\n",
    "\n",
    "* **Stage 1**: Partitioning. Partition $X$ in $B$ blocks $X_k$, $1 \\le k \\le B$. This is done implicitly by Spark Resilient Distributed Dataset (RDDs). \n",
    "* **Stage 2**: Compute closest centroid for each observation using map operator\n",
    "* **Stage 3**: Compute the mean of observations per cluster. As there is no 'mean' operator, this is a two step process where 1) the sum and number of observations per cluster (key) are computed with the reduceByKey  sum operator, and the mean is then computer by dividing the sum of obversations by their number using the mapValues function (which acts on the values of the grouping).\n",
    "* **Stage 4**: Collect the updated means, and repeat stage 2 and 3 until convergence.\n",
    "\n"
   ]
  },
  {
   "cell_type": "markdown",
   "metadata": {},
   "source": [
    "### Spark initialisation"
   ]
  },
  {
   "cell_type": "code",
   "execution_count": 16,
   "metadata": {
    "collapsed": true
   },
   "outputs": [],
   "source": [
    "os.environ['PYSPARK_SUBMIT_ARGS'] =\"--conf spark.driver.memory=2g  pyspark-shell\"\n",
    "\n",
    "from pyspark.sql import SparkSession\n",
    "\n",
    "#Start Spark session with local master and 2 cores\n",
    "spark = SparkSession \\\n",
    "    .builder \\\n",
    "    .master(\"local[2]\") \\\n",
    "    .appName(\"KMeans\") \\\n",
    "    .getOrCreate()\n",
    "    \n",
    "sc=spark.sparkContext"
   ]
  },
  {
   "cell_type": "markdown",
   "metadata": {},
   "source": [
    "Below is the Map/Reduce adaptation of the centralizedKmeans\n",
    "\n",
    "**Exercise:**\n",
    "\n",
    "Fill the <FILLIN1> part, to reduce S in cluster centroids, and number of observations per cluster"
   ]
  },
  {
   "cell_type": "code",
   "execution_count": 21,
   "metadata": {
    "collapsed": true
   },
   "outputs": [],
   "source": [
    "#Input\n",
    "#X_RDD: RDD of observations\n",
    "#k: Number of clusters\n",
    "#T: Number of iterations\n",
    "#Output:\n",
    "#M_sequence: List of cluster centroids at each iteration\n",
    "#S: List of $S_j$ at the last iteration\n",
    "def MR_Kmeans(X_RDD,k=3,T=10):\n",
    "\n",
    "    #Initialise centroids with k observations from X, and broadcast them to all nodes\n",
    "    M=X_RDD.take(k)\n",
    "\n",
    "    #Keep track of all cluster centroids updates for plotting later the sequence of updates\n",
    "    M_sequence=[M]\n",
    "\n",
    "    #Initial loss\n",
    "    L_sequence=[]\n",
    "\n",
    "    for t in range(T):\n",
    "        #Associate each observation to its closest centroid. A (key,value) pair is returned, where the key is the \n",
    "        #cluster ID of the closest centroid,\n",
    "        #and the value is a pair (x,1) that will allow to compute the sum and number of observations in each cluster \n",
    "        S=X_RDD.map(lambda x: (closestCentroid(x,M),(x,1)))\n",
    "        #Use reduce operator to compute sum and number of observations in each cluster \n",
    "        #<TOFILL1>\n",
    "        M_sum=S.reduceByKey(lambda v1,v2:(v1[0]+v2[0],v1[1]+v2[1]))\n",
    "        #Use sum and number of observations in each cluster to compute mean of observations per cluster. \n",
    "        M_mean=M_sum.mapValues(lambda v: v[0]/v[1])\n",
    "        #Finally sort by key (cluster IDs), and retrieve values (updated centroid means)\n",
    "        M=M_mean.sortByKey().values().collect()\n",
    "        M_sequence.append(M)\n",
    "        #Compute loss\n",
    "        #L_sequence.append(MRcomputeLoss(S,M))\n",
    "\n",
    "    return (M_sequence, S, L_sequence)"
   ]
  },
  {
   "cell_type": "code",
   "execution_count": 22,
   "metadata": {
    "collapsed": true
   },
   "outputs": [],
   "source": [
    "#Transforms X in an RDD with B partitions\n",
    "B=4\n",
    "X_RDD=sc.parallelize(X,B)"
   ]
  },
  {
   "cell_type": "code",
   "execution_count": 23,
   "metadata": {},
   "outputs": [],
   "source": [
    "(M_sequence, S, L_sequence)=MR_Kmeans(X_RDD,k=3,T=10)"
   ]
  },
  {
   "cell_type": "code",
   "execution_count": 24,
   "metadata": {},
   "outputs": [
    {
     "data": {
      "text/plain": [
       "[array([ 4.98401302,  5.1847767 ]),\n",
       " array([ 9.83695066,  9.9504322 ]),\n",
       " array([-0.08083014,  0.09678886])]"
      ]
     },
     "execution_count": 24,
     "metadata": {},
     "output_type": "execute_result"
    }
   ],
   "source": [
    "M=M_sequence[-1]\n",
    "M"
   ]
  },
  {
   "cell_type": "markdown",
   "metadata": {},
   "source": [
    "**Exercise:**\n",
    "\n",
    "The computation of the loss (L_sequence.append(computeLoss(S,M))) is still centralised. How could it be written in a Map/Reduce way?\n",
    "\n",
    "Hint: The process is similar to that of computing the centroids, except that insted of taking the mean of the observations, we take the mean of the distance between observations of the cluster centroid."
   ]
  },
  {
   "cell_type": "code",
   "execution_count": 25,
   "metadata": {
    "collapsed": true
   },
   "outputs": [],
   "source": [
    "def MRcomputeLoss(S,M):\n",
    "    squared_dist=S.map(lambda key_value: (key_value[0],(np.linalg.norm(key_value[1][0]-M[key_value[0]])**2,1)))\n",
    "    Lj_sum=squared_dist.reduceByKey(lambda v1,v2:(v1[0]+v2[0],v1[1]+v2[1]))\n",
    "    Lj_mean=Lj_sum.mapValues(lambda v: v[0]/v[1])  \n",
    "    Lj_list=Lj_mean.sortByKey().values().collect()\n",
    "    L=np.sum(np.array(Lj_list))\n",
    "    return L"
   ]
  },
  {
   "cell_type": "code",
   "execution_count": 26,
   "metadata": {
    "collapsed": true
   },
   "outputs": [],
   "source": [
    "# Uncomment L_sequence computation in MR_Kmeans\n",
    "(M_sequence, S, L_sequence)=MR_Kmeans(X_RDD,k=3,T=10)"
   ]
  },
  {
   "cell_type": "code",
   "execution_count": 27,
   "metadata": {},
   "outputs": [
    {
     "data": {
      "text/plain": [
       "[14.602720313215229,\n",
       " 5.1744868179985026,\n",
       " 5.0680992964514235,\n",
       " 5.0680992964514235,\n",
       " 5.0680992964514235,\n",
       " 5.0680992964514235,\n",
       " 5.0680992964514235,\n",
       " 5.0680992964514235,\n",
       " 5.0680992964514235,\n",
       " 5.0680992964514235]"
      ]
     },
     "execution_count": 27,
     "metadata": {},
     "output_type": "execute_result"
    }
   ],
   "source": [
    "L_sequence"
   ]
  },
  {
   "cell_type": "markdown",
   "metadata": {},
   "source": [
    "# Application to image compression\n",
    "\n",
    "In this section, we will apply K-means to image compression. The intuition here is that we can use clustering to find a small number of colors that are most representative of the image, and map the original 24-bit colors to a lower-dimensional color space using the cluster assignments. Here's the image we're going to compress."
   ]
  },
  {
   "cell_type": "code",
   "execution_count": 28,
   "metadata": {},
   "outputs": [
    {
     "data": {
      "text/plain": [
       "<matplotlib.image.AxesImage at 0x10cdd95c0>"
      ]
     },
     "execution_count": 28,
     "metadata": {},
     "output_type": "execute_result"
    },
    {
     "data": {
      "image/png": "[encoded data removed]",
      "text/plain": [
       "<matplotlib.figure.Figure at 0x10c660400>"
      ]
     },
     "metadata": {},
     "output_type": "display_data"
    }
   ],
   "source": [
    "from PIL import Image\n",
    "image=Image.open('img/bird.jpg')\n",
    "image_original=np.asarray(image)\n",
    "plt.imshow(image_original)"
   ]
  },
  {
   "cell_type": "code",
   "execution_count": 29,
   "metadata": {},
   "outputs": [
    {
     "data": {
      "text/plain": [
       "(425, 500, 3)"
      ]
     },
     "execution_count": 29,
     "metadata": {},
     "output_type": "execute_result"
    }
   ],
   "source": [
    "#The image is 425*500 pixels, with 3 color channels\n",
    "image_original.shape"
   ]
  },
  {
   "cell_type": "code",
   "execution_count": 30,
   "metadata": {},
   "outputs": [
    {
     "data": {
      "text/plain": [
       "(212500, 3)"
      ]
     },
     "execution_count": 30,
     "metadata": {},
     "output_type": "execute_result"
    }
   ],
   "source": [
    "#Let us reshape it as an array of colors\n",
    "X=image_original.reshape(-1,3)\n",
    "X.shape"
   ]
  },
  {
   "cell_type": "code",
   "execution_count": 31,
   "metadata": {},
   "outputs": [
    {
     "data": {
      "text/plain": [
       "array([[68, 86, 48],\n",
       "       [67, 85, 47],\n",
       "       [66, 83, 47]], dtype=uint8)"
      ]
     },
     "execution_count": 31,
     "metadata": {},
     "output_type": "execute_result"
    }
   ],
   "source": [
    "#Example of entries. Color values are between 0 and 255, of type uint8\n",
    "X[0:3,:]"
   ]
  },
  {
   "cell_type": "code",
   "execution_count": 32,
   "metadata": {
    "collapsed": true
   },
   "outputs": [],
   "source": [
    "#Need to cast to float to avoid overflows with adfitions\n",
    "X=X.astype(float)"
   ]
  },
  {
   "cell_type": "code",
   "execution_count": 33,
   "metadata": {
    "collapsed": true
   },
   "outputs": [],
   "source": [
    "#Transforms X in an RDD with B partitions\n",
    "B=4\n",
    "X_RDD=sc.parallelize(X,B)"
   ]
  },
  {
   "cell_type": "code",
   "execution_count": 34,
   "metadata": {
    "collapsed": true
   },
   "outputs": [],
   "source": [
    "(M_sequence, S, L_sequence)=MR_Kmeans(X_RDD,k=3,T=3)"
   ]
  },
  {
   "cell_type": "code",
   "execution_count": 35,
   "metadata": {},
   "outputs": [
    {
     "data": {
      "text/plain": [
       "[4746.6625635186956, 4876.8488748855789, 5052.5746930153819]"
      ]
     },
     "execution_count": 35,
     "metadata": {},
     "output_type": "execute_result"
    }
   ],
   "source": [
    "L_sequence"
   ]
  },
  {
   "cell_type": "code",
   "execution_count": 36,
   "metadata": {
    "collapsed": true
   },
   "outputs": [],
   "source": [
    "#Let us cast centroids back to uint8\n",
    "M=M_sequence[-1]\n",
    "M=np.uint8(M)"
   ]
  },
  {
   "cell_type": "code",
   "execution_count": 37,
   "metadata": {
    "collapsed": true
   },
   "outputs": [],
   "source": [
    "X_compressed=X_RDD.map(lambda x: (M[closestCentroid(x,M),:])).collect()"
   ]
  },
  {
   "cell_type": "code",
   "execution_count": 38,
   "metadata": {},
   "outputs": [
    {
     "data": {
      "text/plain": [
       "<matplotlib.image.AxesImage at 0x10e6b0c50>"
      ]
     },
     "execution_count": 38,
     "metadata": {},
     "output_type": "execute_result"
    },
    {
     "data": {
      "image/png": "[encoded data removed]",
      "text/plain": [
       "<matplotlib.figure.Figure at 0x10d0b3b00>"
      ]
     },
     "metadata": {},
     "output_type": "display_data"
    }
   ],
   "source": [
    "X_compressed=np.array(X_compressed)\n",
    "image_compressed=X_compressed.reshape(425, 500, 3)\n",
    "image_compressed = Image.fromarray(image_compressed)\n",
    "plt.imshow(image_compressed)"
   ]
  },
  {
   "cell_type": "markdown",
   "metadata": {},
   "source": [
    "# 4) Optimisation with mapPartitions\n",
    "\n",
    "https://medium.com/dataholiks-distillery/l2-distance-matrix-vectorization-trick-26aa3247ac6c\n"
   ]
  },
  {
   "cell_type": "code",
   "execution_count": 39,
   "metadata": {
    "collapsed": true
   },
   "outputs": [],
   "source": [
    "#Input\n",
    "#X_RDD: RDD of observations\n",
    "#k: Number of clusters\n",
    "#T: Number of iterations\n",
    "#Output:\n",
    "#M_sequence: List of cluster centroids at each iteration\n",
    "#S: List of $S_j$ at the last iteration\n",
    "def MR_Kmeans(X_RDD,k=3,T=10):\n",
    "\n",
    "    #Initialise centroids with k observations from X, and broadcast them to all nodes\n",
    "    M=X_RDD.take(k)\n",
    "\n",
    "    #Keep track of all cluster centroids updates for plotting later the sequence of updates\n",
    "    M_sequence=[M]\n",
    "\n",
    "    #Initial loss\n",
    "    L_sequence=[]\n",
    "\n",
    "    for t in range(T):\n",
    "        #Associate each observation to its closest centroid. A (key,value) pair is returned, where the key is the \n",
    "        #cluster ID of the closest centroid,\n",
    "        #and the value is a pair (x,1) that will allow to compute the sum and number of observations in each cluster \n",
    "        S=X_RDD.map(lambda x: (closestCentroid(x,M),(x,1)))\n",
    "        #Use reduce operator to compute sum and number of observations in each cluster \n",
    "        #<TOFILL1>\n",
    "        M_sum=S.reduceByKey(lambda v1,v2:(v1[0]+v2[0],v1[1]+v2[1]))\n",
    "        #Use sum and number of observations in each cluster to compute mean of observations per cluster. \n",
    "        M_mean=M_sum.mapValues(lambda v: v[0]/v[1])\n",
    "        #Finally sort by key (cluster IDs), and retrieve values (updated centroid means)\n",
    "        M=M_mean.sortByKey().values().collect()\n",
    "        M_sequence.append(M)\n",
    "        #Compute loss\n",
    "        L_sequence.append(MRcomputeLoss(S,M))\n",
    "\n",
    "    return (M_sequence, S, L_sequence)"
   ]
  },
  {
   "cell_type": "code",
   "execution_count": 40,
   "metadata": {
    "collapsed": true
   },
   "outputs": [],
   "source": [
    "def X_M_dist(X,M):\n",
    "    X=np.array(list(X))\n",
    "    M=np.array(list(M))\n",
    "    \n",
    "    norm_x=np.sum(X**2,axis=1)\n",
    "    norm_m=np.sum(M**2,axis=1)\n",
    "    \n",
    "    XM=np.dot(X,M.T)\n",
    "    \n",
    "    distances=-2 * XM + norm_m + norm_x[:, np.newaxis]\n",
    "    \n",
    "    closest_centroid=np.argmin(distances,axis=1)\n",
    "    \n",
    "    \n",
    "    \n",
    "    return [distances]"
   ]
  },
  {
   "cell_type": "code",
   "execution_count": 41,
   "metadata": {
    "collapsed": true
   },
   "outputs": [],
   "source": [
    "S=X_RDD.mapPartitions(lambda X:X_M_dist(X,M))"
   ]
  },
  {
   "cell_type": "code",
   "execution_count": 42,
   "metadata": {},
   "outputs": [
    {
     "data": {
      "text/plain": [
       "(53248, 3)"
      ]
     },
     "execution_count": 42,
     "metadata": {},
     "output_type": "execute_result"
    }
   ],
   "source": [
    "S.take(1)[0].shape"
   ]
  },
  {
   "cell_type": "code",
   "execution_count": null,
   "metadata": {
    "collapsed": true
   },
   "outputs": [],
   "source": []
  },
  {
   "cell_type": "markdown",
   "metadata": {},
   "source": [
    "# 5) K-means with Spark ML\n",
    "\n",
    "See https://spark.apache.org/docs/latest/ml-clustering.html#k-means"
   ]
  },
  {
   "cell_type": "code",
   "execution_count": 43,
   "metadata": {
    "collapsed": true
   },
   "outputs": [],
   "source": [
    "from pyspark.ml.clustering import KMeans\n",
    "\n",
    "K=3\n",
    "random_seed=0\n",
    "\n",
    "# Trains a k-means model.\n",
    "kmeans = KMeans().setK(3).setSeed(random_seed)"
   ]
  },
  {
   "cell_type": "code",
   "execution_count": 44,
   "metadata": {
    "collapsed": true
   },
   "outputs": [],
   "source": [
    "from pyspark.ml.linalg import Vectors\n",
    "\n",
    "X_tmp = map(lambda z: [Vectors.dense(z)],X)\n",
    "X_DF = spark.createDataFrame(X_tmp,schema=[\"features\"])"
   ]
  },
  {
   "cell_type": "code",
   "execution_count": 45,
   "metadata": {},
   "outputs": [
    {
     "name": "stdout",
     "output_type": "stream",
     "text": [
      "Within Set Sum of Squared Errors = 246223099.38923275\n",
      "Cluster Centers: \n",
      "[ 105.21478005  118.3578734    87.62743189]\n",
      "[ 64.98377548  76.87546458  51.12308444]\n",
      "[  75.68706537  190.54323134  193.11057024]\n"
     ]
    }
   ],
   "source": [
    "model = kmeans.fit(X_DF)\n",
    "\n",
    "# Evaluate clustering by computing Within Set Sum of Squared Errors.\n",
    "wssse = model.computeCost(X_DF)\n",
    "print(\"Within Set Sum of Squared Errors = \" + str(wssse))\n",
    "\n",
    "# Shows the result.\n",
    "centers = model.clusterCenters()\n",
    "print(\"Cluster Centers: \")\n",
    "for center in centers:\n",
    "    print(center)"
   ]
  },
  {
   "cell_type": "markdown",
   "metadata": {},
   "source": [
    "## Image compression"
   ]
  },
  {
   "cell_type": "code",
   "execution_count": 46,
   "metadata": {
    "collapsed": true
   },
   "outputs": [],
   "source": [
    "from pyspark.ml.linalg import Vectors\n",
    "\n",
    "X_tmp = map(lambda z: [Vectors.dense(z)],X)\n",
    "X_DF = spark.createDataFrame(X_tmp,schema=[\"features\"])"
   ]
  },
  {
   "cell_type": "code",
   "execution_count": 47,
   "metadata": {},
   "outputs": [
    {
     "name": "stdout",
     "output_type": "stream",
     "text": [
      "Within Set Sum of Squared Errors = 106401341.24919531\n"
     ]
    }
   ],
   "source": [
    "from pyspark.ml.clustering import KMeans\n",
    "\n",
    "k=10\n",
    "random_seed=0\n",
    "\n",
    "# Trains a k-means model.\n",
    "kmeans = KMeans(k=k,seed=random_seed,maxIter=1)\n",
    "\n",
    "model = kmeans.fit(X_DF)\n",
    "\n",
    "# Evaluate clustering by computing Within Set Sum of Squared Errors.\n",
    "wssse = model.computeCost(X_DF)\n",
    "print(\"Within Set Sum of Squared Errors = \" + str(wssse))\n",
    "\n",
    "# Shows the result.\n",
    "centers = model.clusterCenters()\n",
    "#print(\"Cluster Centers: \")\n",
    "#for center in centers:\n",
    "#    print(center)"
   ]
  },
  {
   "cell_type": "markdown",
   "metadata": {},
   "source": [
    "Within Set Sum of Squared Errors = 26516651.088171516"
   ]
  },
  {
   "cell_type": "code",
   "execution_count": 48,
   "metadata": {
    "collapsed": true
   },
   "outputs": [],
   "source": [
    "centers=np.array(centers,dtype=np.uint8)"
   ]
  },
  {
   "cell_type": "code",
   "execution_count": 49,
   "metadata": {
    "collapsed": true
   },
   "outputs": [],
   "source": [
    "X_compressed=X_RDD.map(lambda x: (centers[closestCentroid(x,centers),:])).collect()"
   ]
  },
  {
   "cell_type": "code",
   "execution_count": 50,
   "metadata": {},
   "outputs": [
    {
     "data": {
      "text/plain": [
       "<matplotlib.image.AxesImage at 0x116f3b2e8>"
      ]
     },
     "execution_count": 50,
     "metadata": {},
     "output_type": "execute_result"
    },
    {
     "data": {
      "image/png": "[encoded data removed]",
      "text/plain": [
       "<matplotlib.figure.Figure at 0x10d0d8e80>"
      ]
     },
     "metadata": {},
     "output_type": "display_data"
    }
   ],
   "source": [
    "X_compressed=np.array(X_compressed)\n",
    "image_compressed=X_compressed.reshape(425, 500, 3)\n",
    "image_compressed = Image.fromarray(image_compressed)\n",
    "plt.imshow(image_compressed)"
   ]
  },
  {
   "cell_type": "code",
   "execution_count": null,
   "metadata": {
    "collapsed": true
   },
   "outputs": [],
   "source": []
  },
  {
   "cell_type": "markdown",
   "metadata": {
    "collapsed": true
   },
   "source": [
    "## Relevant links\n",
    "\n",
    "* http://nbviewer.jupyter.org/github/jdwittenauer/ipython-notebooks/blob/master/notebooks/ml/ML-Exercise7.ipynb\n",
    "* http://ai2-s2-pdfs.s3.amazonaws.com/23db/2d9c5a97f36f1b63ea249402b4be0919ebc9.pdf\n",
    "* https://papers.nips.cc/paper/3150-map-reduce-for-machine-learning-on-multicore.pdf\n",
    "* https://stanford.edu/~rezab/classes/cme323/S16/projects_reports/bodoia.pdf"
   ]
  },
  {
   "cell_type": "code",
   "execution_count": null,
   "metadata": {
    "collapsed": true
   },
   "outputs": [],
   "source": []
  }
 ],
 "metadata": {
  "anaconda-cloud": {},
  "kernelspec": {
   "display_name": "Python 3",
   "language": "python",
   "name": "python3"
  },
  "language_info": {
   "codemirror_mode": {
    "name": "ipython",
    "version": 3
   },
   "file_extension": ".py",
   "mimetype": "text/x-python",
   "name": "python",
   "nbconvert_exporter": "python",
   "pygments_lexer": "ipython3",
   "version": "3.6.1"
  }
 },
 "nbformat": 4,
 "nbformat_minor": 1
}
