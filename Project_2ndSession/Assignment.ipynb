{
 "cells": [
  {
   "cell_type": "markdown",
   "metadata": {},
   "source": [
    "# Objective\n",
    "\n",
    "The goal of the assignment for the second session is to design a scalable distributed online forecasting system that extends the KakfaSparkStreamingRLS notebooks. \n"
   ]
  },
  {
   "cell_type": "markdown",
   "metadata": {},
   "source": [
    "# Phase II requirements\n",
    "\n",
    "The KakfaSparkStreamingRLS notebooks provide a basis for a distributed online prediction system that relies on the recursive least square (RLS) algorithm. One notebook (KafkaSendRLS) allows to send a stream of data where one output variable $y$ is a noisy linear combination of a set of inputs $x$ ($y=x^T \\beta +w$), and one notebook (KafkaReceiveRLS) allows to receive the data stream, and run two RLS models with different forgetting factors in parallel. \n",
    "\n",
    "\n",
    "You should extend these notebooks in such a way that:\n",
    "\n",
    "* On the data generation side:\n",
    "    * KafkaSendRLS should send $n$ outputs $y_j$, with $y_j=x^T \\beta_j +w$. Coefficients $\\beta_j \\in \\mathbb{R}^{10}$, $1 \\le j \\le n$ should be drawn from a multivariate normal distribution before the start of the simulation. \n",
    "    \n",
    "* On the data receving side:\n",
    "    * KafkaReceiveRLS should compute $k$ RLS models with different forgetting factors, for each of the $n$ output variables $y_j$, in parallel. The forgetting factors should be equally spaced in the interval $[0.5,1]$. For example, $k=3$ should run three models for each output $y_j$ with $mu_1=0.5$, $mu_2=0.75$ and $mu_3=1$.\n",
    "\n",
    "The prediction system should be scalable in the number of models $k$, and output variable $n$. \n",
    "\n",
    "    "
   ]
  },
  {
   "cell_type": "markdown",
   "metadata": {
    "collapsed": true
   },
   "source": [
    "# Deliverables\n",
    "\n",
    "You need to deliver your implementation of the online distributed prediction system (only the code, no report required), and prepare a presentation of your solution, that describes the system, explains how your approach is scalable, and provides an experimental assessment of the model accuracies in terms of MSE). \n",
    "\n",
    "**Implementation environment**: You are free to implement your system either on the ULB hosted\n",
    "cluster (which we also used during the lab sessions), install all required software in a\n",
    "locally-hosted environment, or use the Docker container.\n",
    "\n",
    "**Presentation**: You will have 15 minutes to present this project (10 minutes presentation, 5 minutes questions). The presentation should address the following points:\n",
    "\n",
    "* Description of the overall architecture, and why it is scalable\n",
    "* Experimental results in terms of scalability \n",
    "* Experimental results in terms of predictions accuracy "
   ]
  },
  {
   "cell_type": "markdown",
   "metadata": {},
   "source": [
    "# Modalities \n",
    "\n",
    "1. The assignment should be solved **individually** (not in groups of two as in the first session). \n",
    "2. The assignment will be graded on (1) the implementation itself, and (2) the presentation.\n",
    "3. As for the first session, you will have to create a GIT repository, in the **INFO-H-515/2017-2018-2** repository group at `http://wit-projects.ulb.ac.be/rhodecode/` to submit your code (using the convention `project-<student>` where `student` corresponds to your student number). This repository must be made private. It is recommended that you create this repository as soon as possible to avoid last minute technical difficulties, and that you use it throughout the project to synchronize your changes. \n",
    "4. Your solution should be pushed to the repository no later than the **15th of August 2018**. You get a penalty of -1 points for each day that your solution is delayed. Only the latest commit will be considered as the solution.\n",
    "5. Sharing of code is not allowed (you may, however, verbally discuss ideas on how to tackle the project).\n",
    "6. This project counts for 25% of your grade (5 points). This project **shall be completed individually and it shall represent your sole efforts**. The result or the copy of another student’s efforts (current, or past, semester(s)), is considered academic dishonesty. Plagiarism, in the sense of copy-pasting from existing reports or code is a serious issue. To avoid plagiarism, be sure to always quote your sources and indicate clearly if something has been copied verbatim."
   ]
  }
 ],
 "metadata": {
  "kernelspec": {
   "display_name": "Python 3",
   "language": "python",
   "name": "python3"
  },
  "language_info": {
   "codemirror_mode": {
    "name": "ipython",
    "version": 3
   },
   "file_extension": ".py",
   "mimetype": "text/x-python",
   "name": "python",
   "nbconvert_exporter": "python",
   "pygments_lexer": "ipython3",
   "version": "3.6.1"
  }
 },
 "nbformat": 4,
 "nbformat_minor": 2
}
